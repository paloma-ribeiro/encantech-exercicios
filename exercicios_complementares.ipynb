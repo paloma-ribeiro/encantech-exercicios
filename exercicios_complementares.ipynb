{
  "nbformat": 4,
  "nbformat_minor": 0,
  "metadata": {
    "colab": {
      "name": "paloma_ribeiro_aula1e2.ipynb",
      "provenance": [],
      "collapsed_sections": []
    },
    "kernelspec": {
      "name": "python3",
      "display_name": "Python 3"
    },
    "language_info": {
      "name": "python"
    }
  },
  "cells": [
    {
      "cell_type": "markdown",
      "source": [
        "1. Faça um programa que pergunte quanto você ganha por hora e o número de horas trabalhadas no mês. Calcule e mostre o total do seu salário no referido mês, sabendo-se que são descontados 11% para o Imposto de Renda, 8% para o INSS e 5% para o sindicato, faça um programa que nos dê:\n",
        "\n",
        "salário bruto.\n",
        "\n",
        "quanto pagou ao INSS.\n",
        "\n",
        "quanto pagou ao sindicato.\n",
        "\n",
        "o salário líquido.\n",
        "\n",
        "calcule os descontos e o salário líquido, conforme informação abaixo:\n",
        "\n",
        "Salário Bruto - IR (11%) - INSS (8%) - Sindicato ( 5%) = Salário Liquido"
      ],
      "metadata": {
        "id": "V8ZzpN_Be0Bw"
      }
    },
    {
      "cell_type": "code",
      "execution_count": 4,
      "metadata": {
        "id": "EzML9UJnepu8",
        "colab": {
          "base_uri": "https://localhost:8080/"
        },
        "outputId": "3bd1d4ee-bcb1-44b5-dfa1-f3fdc09ba367"
      },
      "outputs": [
        {
          "output_type": "stream",
          "name": "stdout",
          "text": [
            "Quantos você ganha por hora? 14\n",
            "Quantas horas você trabalhou esse mês? 160\n",
            "Salário Bruto: R$ 2,240.00\n",
            "INSS: R$ 179.20\n",
            "Sindicato: R$ 112.00\n",
            "Salário líquido: R$ 1,702.40\n"
          ]
        }
      ],
      "source": [
        "salario_hora = float(input('Quantos você ganha por hora? '))\n",
        "horas_trabalhadas = float(input('Quantas horas você trabalhou esse mês? '))\n",
        "\n",
        "salario_bruto = salario_hora * horas_trabalhadas\n",
        "imposto_renda = 0.11 * salario_bruto\n",
        "inss = 0.08 * salario_bruto\n",
        "sindicato = 0.05 * salario_bruto\n",
        "\n",
        "print(f'Salário Bruto: R$ {salario_bruto:,.2f}')\n",
        "print(f'INSS: R$ {inss:,.2f}')\n",
        "print(f'Sindicato: R$ {sindicato:,.2f}')\n",
        "print(f'Salário líquido: R$ {salario_bruto - inss - imposto_renda - sindicato:,.2f}')\n"
      ]
    },
    {
      "cell_type": "markdown",
      "source": [
        "2. Faça um programa que peça o tamanho de um arquivo para download (em MB) e a velocidade de um link de Internet (em Mbps), calcule e informe o tempo aproximado de download do arquivo usando este link (em minutos)"
      ],
      "metadata": {
        "id": "GnmdXIz2U2iH"
      }
    },
    {
      "cell_type": "code",
      "source": [
        "tamanho_arquivo = int(input('Insira o tamanho do arquivo para download (em MB): '))\n",
        "velocidade_internet = int(input('Insira a velocidade do link de internet (em Mbps): '))\n",
        "\n",
        "tempo_download = tamanho_arquivo / (velocidade_internet / 8)\n",
        "\n",
        "print(f'Tempo aproximado de download do arquivo é {tempo_download / 60:,.3f} minutos')\n"
      ],
      "metadata": {
        "id": "nA2ehJbuU5GP",
        "colab": {
          "base_uri": "https://localhost:8080/"
        },
        "outputId": "985a71eb-9def-406e-8048-eeaff449700c"
      },
      "execution_count": 11,
      "outputs": [
        {
          "output_type": "stream",
          "name": "stdout",
          "text": [
            "Insira o tamanho do arquivo para download (em MB): 25\n",
            "Insira a velocidade do link de internet (em Mbps): 255\n",
            "Tempo aproximado de download do arquivo é 0.013 minutos\n"
          ]
        }
      ]
    },
    {
      "cell_type": "markdown",
      "source": [
        "3. João Papo-de-Pescador, homem de bem, comprou um microcomputador para controlar o rendimento diário de seu trabalho. Toda vez que ele traz um peso de peixes maior que o estabelecido pelo regulamento de pesca do estado de São Paulo (50 quilos) deve pagar uma multa de R$ 4,00 por quilo excedente. João precisa que você faça um programa que leia a variável peso (peso de peixes) e calcule o excesso. Gravar na variável excesso a quantidade de quilos além do limite e na variável multa o valor da multa que João deverá pagar. Imprima os dados do programa com as mensagens adequadas."
      ],
      "metadata": {
        "id": "4Pk9A_q7U74u"
      }
    },
    {
      "cell_type": "code",
      "source": [
        "peso_permitido = 50\n",
        "excesso = 0\n",
        "multa = 0\n",
        "\n",
        "peso = float(input('Insira o peso dos peixes: '))\n",
        "\n",
        "if peso > peso_permitido:\n",
        "  excesso = peso - peso_permitido\n",
        "  multa = 4 * excesso\n",
        "  print(f'Excesso: {excesso} Kg. Multa R$ {multa:,.2f}')\n",
        "\n",
        "else:\n",
        "  print('Peso dentro do padrão')"
      ],
      "metadata": {
        "colab": {
          "base_uri": "https://localhost:8080/"
        },
        "id": "sY9AYiOEU89o",
        "outputId": "d16d7dfe-daf9-49bf-dd10-8b5c2fc9e802"
      },
      "execution_count": 5,
      "outputs": [
        {
          "output_type": "stream",
          "name": "stdout",
          "text": [
            "Insira o peso dos peixes: 56\n",
            "Excesso: 6.0 Kg. Multa R$ 24.00\n"
          ]
        }
      ]
    },
    {
      "cell_type": "markdown",
      "source": [
        "4. Faça um programa para uma loja de tintas. O programa deverá pedir o tamanho em metros quadrados da área a ser pintada. Considere que a cobertura da tinta é de 1 litro para cada 3 metros quadrados e que a tinta é vendida em latas de 18 litros, que custam R$ 80,00. Informe ao usuário a quantidades de latas de tinta a serem compradas e o preço total. Obs.: somente são vendidos um número inteiro de latas."
      ],
      "metadata": {
        "id": "02FRV6o1U-iF"
      }
    },
    {
      "cell_type": "code",
      "source": [
        "import math\n",
        "\n",
        "area = float(input('Insira o tamanho da área a ser pintada (em metros quadrados): '))\n",
        "\n",
        "litros_tinta = area / 3\n",
        "lata = 18\n",
        "valor_lata = 80\n",
        "\n",
        "num_latas = math.ceil(litros_tinta / lata)\n",
        "preco_total = num_latas * valor_lata\n",
        "\n",
        "print(f'Quantidade de latas a serem compradas: {num_latas}, Preço Total: R$ {preco_total:,.2f}')\n"
      ],
      "metadata": {
        "id": "5w2tpe61VBJI",
        "colab": {
          "base_uri": "https://localhost:8080/"
        },
        "outputId": "34de30c3-b897-4c28-c4d2-61022bcb994d"
      },
      "execution_count": 9,
      "outputs": [
        {
          "output_type": "stream",
          "name": "stdout",
          "text": [
            "Insira o tamanho da área a ser pintada (em metros quadrados): 150\n",
            "Quantidade de latas a serem compradas: 3, Preço Total: R$ 240.00\n"
          ]
        }
      ]
    },
    {
      "cell_type": "markdown",
      "source": [
        "5. Faça um Programa para uma loja de tintas. O programa deverá pedir o tamanho em metros quadrados da área a ser pintada. \n",
        "Considere que a cobertura da tinta é de 1 litro para cada 6 metros quadrados e que a tinta é vendida em latas de 18 litros, que custam R$ 80,00 ou em galoes de 3,6 litros, que custam R$ 25,00. Informe ao usuário as quantidades de tinta a serem compradas e os respectivos preços em 3 situações:\n",
        "\n",
        "comprar apenas latas de 18 litros;\n",
        "\n",
        "comprar apenas galões de 3,6 litros;\n",
        "\n",
        "misturar latas e galões, de forma que o desperdício de tinta seja menor.\n",
        " \n",
        "Acrescente 10% de folga e sempre arredonde os valores para cima, isto é, considere latas cheias."
      ],
      "metadata": {
        "id": "qHsZpGvCVBd7"
      }
    },
    {
      "cell_type": "code",
      "source": [
        "import math\n",
        "\n",
        "area = float(input('Insira o tamanho da área a ser pintada (em metros quadrados): '))\n",
        "\n",
        "litros_tinta = (area / 6)\n",
        "folga = litros_tinta * 0.1\n",
        "\n",
        "litros_total = litros_tinta + folga\n",
        "\n",
        "lata = 18\n",
        "valor_lata = 80\n",
        "\n",
        "galao = 3.6\n",
        "valor_galao = 25\n",
        "\n",
        "num_latas = math.ceil(litros_total / lata)\n",
        "preco_total_lata = num_latas * valor_lata\n",
        "\n",
        "num_galao = math.ceil(litros_total / galao)\n",
        "preco_total_galao = num_galao * valor_galao\n",
        "\n",
        "print('\\n')\n",
        "\n",
        "# Comprar apenas latas de 18 litros\n",
        "print(f'Quantidade de latas a serem compradas: {num_latas}, Preço Total: R$ {preco_total_lata:,.2f}')\n",
        "\n",
        "print('\\n')\n",
        "\n",
        "# Comprar apenas galões de 3,6 litros\n",
        "print(f'Quantidade de galões a serem comprados: {num_galao}, Preço Total: R$ {preco_total_galao:,.2f}')\n",
        "\n",
        "# misturar latas e galões, de forma que o desperdício de tinta seja menor.\n",
        "g = 0\n",
        "l = 0\n",
        "\n",
        "while litros_total > 0:\n",
        "  if litros_total - lata > 0:\n",
        "    l += 1\n",
        "    litros_total -= 18\n",
        "  else:\n",
        "    g += 1\n",
        "    litros_total -= 3.6\n",
        "\n",
        "preco_final_l = l * 18\n",
        "preco_final_g = g * 25\n",
        "\n",
        "print('\\n')\n",
        "\n",
        "if g > 0:\n",
        "  print(f'Quantidade de galões a serem comprados: {g}') \n",
        "if l > 0:\n",
        "  print(f'Quantidade de latas a serem compradas: {l}')\n",
        "\n",
        "print(f'Preço Total: R$ {preco_final_g + preco_final_l:,.2f}')"
      ],
      "metadata": {
        "id": "Muf27AIdVHHG"
      },
      "execution_count": null,
      "outputs": []
    },
    {
      "cell_type": "markdown",
      "source": [
        "6. Um posto está vendendo combustíveis com a seguinte tabela de descontos:\n",
        "\n",
        "a. Álcool:até 20 litros, desconto de 3% por litro\n",
        "acima de 20 litros, desconto de 5% por litro\n",
        "\n",
        "b. Gasolina:até 20 litros, desconto de 4% por litro\n",
        "acima de 20 litros, desconto de 6% por litro\n",
        "\n",
        "Escreva um algoritmo que leia o número de litros vendidos, o tipo de combustível (codificado da seguinte forma: A-álcool, G-gasolina), calcule e imprima o valor a ser pago pelo cliente sabendo-se que o preço do litro da gasolina é 2.50 o preço do litro do álcool é 1,90."
      ],
      "metadata": {
        "id": "e_reZOQ8VQdH"
      }
    },
    {
      "cell_type": "code",
      "source": [
        "combustivel = float(input('Número de litros vendidos: '))\n",
        "tipo_combustivel = input('Escolha o tipo de combustível: A-alcool, G-gasolina: ')\n",
        "total = 0\n",
        "valor_alcool = 1.90\n",
        "valor_gasolina = 2.50\n",
        "\n",
        "if tipo_combustivel == 'A':\n",
        "  if combustivel <= 20:\n",
        "    total = (combustivel * valor_alcool) - (combustivel * valor_alcool * 0.03) \n",
        "  else:\n",
        "    total = (combustivel * valor_alcool) - (combustivel * valor_alcool * 0.05)\n",
        "  print(f'Total: R$ {total:,.2f}')\n",
        "\n",
        "elif tipo_combustivel == 'G':\n",
        "  if combustivel <= 20:\n",
        "    total = (combustivel * valor_gasolina) - (combustivel * valor_gasolina * 0.04) \n",
        "  else:\n",
        "    total = (combustivel * valor_gasolina) - (combustivel * valor_gasolina * 0.06)\n",
        "  print(f'Total: R$ {total:,.2f}')\n",
        "\n",
        "else:\n",
        "  print('Entrada Inválida')"
      ],
      "metadata": {
        "id": "7a1pgxu6VXi_",
        "colab": {
          "base_uri": "https://localhost:8080/"
        },
        "outputId": "44e5a665-739a-4535-ff7b-4c719452c6ac"
      },
      "execution_count": 19,
      "outputs": [
        {
          "output_type": "stream",
          "name": "stdout",
          "text": [
            "Número de litros vendidos: 24\n",
            "Escolha o tipo de combustível: A-alcool, G-gasolina: G\n",
            "Total: R$ 56.40\n"
          ]
        }
      ]
    },
    {
      "cell_type": "markdown",
      "source": [
        "7. Faça um Programa que leia 2 números e em seguida pergunte ao usuário qual operação ele deseja realizar. O resultado da operação deve ser acompanhado de uma frase que diga se o número é:\n",
        "\n",
        "a. par ou ímpar;\n",
        "\n",
        "b. positivo ou negativo;\n",
        "\n",
        "c. inteiro ou decimal."
      ],
      "metadata": {
        "id": "y3WgMIVsVYYs"
      }
    },
    {
      "cell_type": "code",
      "source": [
        "x = float(input('Insira um número: '))\n",
        "y = float(input('Insira um número: '))\n",
        "\n",
        "numero = []\n",
        "\n",
        "operacoes = {\n",
        "    '1': 'adicao',\n",
        "    '2': 'subtracao',\n",
        "    '3': 'multiplicacao',\n",
        "    '4': 'divisao'\n",
        "}\n",
        "\n",
        "while True:\n",
        "  operacao = input('Insira o numero da operação que deseja realizar: 1-Adição, 2-Subtração, 3-Multiplicação, 4-Divisão: ')\n",
        "\n",
        "  atual_operacao = operacoes.get(operacao)\n",
        "\n",
        "  if atual_operacao is None:\n",
        "    print('Opção inválida!')\n",
        "    continue\n",
        "\n",
        "  if atual_operacao == 'adicao':\n",
        "    resultado = x + y\n",
        "  elif atual_operacao == 'subtracao':\n",
        "    resultado = x - y\n",
        "  elif atual_operacao == 'multiplicacao':\n",
        "    resultado = x * y\n",
        "  elif atual_operacao == 'divisao':\n",
        "    resultado = x / y\n",
        "\n",
        "  if resultado % 2 == 0:\n",
        "    numero.append('Par')\n",
        "  else:\n",
        "    numero.append('Impar')\n",
        "  if resultado > 0:\n",
        "    numero.append('Positivo')\n",
        "  else:\n",
        "    numero.append('Negativo')\n",
        "\n",
        "  print(f'Resultado: {resultado}, {numero}')\n",
        "  break\n",
        "\n",
        "  "
      ],
      "metadata": {
        "id": "UVx_dclDVdT9",
        "colab": {
          "base_uri": "https://localhost:8080/"
        },
        "outputId": "f0172eb1-a0f2-437e-ecc1-6ad5ee4c294b"
      },
      "execution_count": 9,
      "outputs": [
        {
          "output_type": "stream",
          "name": "stdout",
          "text": [
            "Insira um número: 5\n",
            "Insira um número: 4\n",
            "Insira o numero da operação que deseja realizar: 1-Adição, 2-Subtração, 3-Multiplicação, 4-Divisão: 5\n",
            "Opção inválida!\n",
            "Insira o numero da operação que deseja realizar: 1-Adição, 2-Subtração, 3-Multiplicação, 4-Divisão: 8\n",
            "Opção inválida!\n",
            "Insira o numero da operação que deseja realizar: 1-Adição, 2-Subtração, 3-Multiplicação, 4-Divisão: 2\n",
            "1.0 5.0 4.0 subtracao\n",
            "Resultado: 1.0, ['Impar', 'Positivo']\n"
          ]
        }
      ]
    }
  ]
}