{
  "nbformat": 4,
  "nbformat_minor": 0,
  "metadata": {
    "colab": {
      "name": "paloma_ribeiro_exer_fund_aula1.ipynb",
      "provenance": [],
      "collapsed_sections": []
    },
    "kernelspec": {
      "name": "python3",
      "display_name": "Python 3"
    },
    "language_info": {
      "name": "python"
    }
  },
  "cells": [
    {
      "cell_type": "markdown",
      "source": [
        "Exercicios Fundamentais da Aula 1"
      ],
      "metadata": {
        "id": "qMfF-vLq73ZP"
      }
    },
    {
      "cell_type": "markdown",
      "source": [
        "1. Faça um programa que mostre a mensagem \"\" na tela"
      ],
      "metadata": {
        "id": "SfZG_fPB77ct"
      }
    },
    {
      "cell_type": "code",
      "execution_count": 1,
      "metadata": {
        "colab": {
          "base_uri": "https://localhost:8080/"
        },
        "id": "rZGQSG8ip1aP",
        "outputId": "8b3b0955-c35b-4114-d3c6-e8a6a5cca612"
      },
      "outputs": [
        {
          "output_type": "stream",
          "name": "stdout",
          "text": [
            "\"\"\n"
          ]
        }
      ],
      "source": [
        "print('\"\"')"
      ]
    },
    {
      "cell_type": "markdown",
      "source": [
        "2. Faça um programa que peça um número e então mostre a mensagem O número informado foi [número].\n"
      ],
      "metadata": {
        "id": "lwmJ0L_48RnS"
      }
    },
    {
      "cell_type": "code",
      "source": [
        "numero = input('Insira um numero: ')\n",
        "if str(numero).isnumeric():\n",
        "  print(f'O numero informado foi {numero}')\n",
        "else:\n",
        "  print('Não foi informado um numero!')"
      ],
      "metadata": {
        "colab": {
          "base_uri": "https://localhost:8080/"
        },
        "id": "s6P2r8ib8YzY",
        "outputId": "bffbabee-35cf-46db-e0f4-edce2cf596e3"
      },
      "execution_count": 5,
      "outputs": [
        {
          "output_type": "stream",
          "name": "stdout",
          "text": [
            "Insira um numero: 45\n",
            "O numero informado foi 45\n"
          ]
        }
      ]
    },
    {
      "cell_type": "markdown",
      "source": [
        "3. Faça um programa que peça dois números e imprima a soma"
      ],
      "metadata": {
        "id": "dP2P8z5_9hS_"
      }
    },
    {
      "cell_type": "code",
      "source": [
        "x = float(input('Insira um número: '))\n",
        "y = float(input('Insira outro numero: '))\n",
        "\n",
        "print(f'Soma de x + y é: {x + y}')"
      ],
      "metadata": {
        "colab": {
          "base_uri": "https://localhost:8080/"
        },
        "id": "QVsybF5r9vLY",
        "outputId": "14371a0b-e213-4af0-fd9e-ec873ae97c7e"
      },
      "execution_count": 7,
      "outputs": [
        {
          "output_type": "stream",
          "name": "stdout",
          "text": [
            "Insira um número: 4\n",
            "Insira outro numero: 3\n",
            "Soma de x + y é: 7.0\n"
          ]
        }
      ]
    },
    {
      "cell_type": "markdown",
      "source": [
        "4. Faça um programa que peça as 4 notas bimestrais e mostre a média.\n"
      ],
      "metadata": {
        "id": "kzr5H_em_i8S"
      }
    },
    {
      "cell_type": "code",
      "source": [
        "nota_total = 0\n",
        "\n",
        "for i in range(0, 4):\n",
        "  nota = float(input('Insira uma nota: '))\n",
        "  nota_total += nota\n",
        "\n",
        "print(f'Media: {nota_total / 4}')\n"
      ],
      "metadata": {
        "colab": {
          "base_uri": "https://localhost:8080/"
        },
        "id": "4KerLo61_qQt",
        "outputId": "52ea6d8e-691d-4773-f329-ba2d3891269b"
      },
      "execution_count": 17,
      "outputs": [
        {
          "output_type": "stream",
          "name": "stdout",
          "text": [
            "Insira uma nota: 2\n",
            "Insira uma nota: 3\n",
            "Insira uma nota: 3\n",
            "Insira uma nota: 2\n",
            "Media: 2.5\n"
          ]
        }
      ]
    },
    {
      "cell_type": "markdown",
      "source": [
        "5. Faça um programa que converta metros para centímetros."
      ],
      "metadata": {
        "id": "n4SA1RK8CLC3"
      }
    },
    {
      "cell_type": "code",
      "source": [
        "valor_metro = 40\n",
        "\n",
        "print(f'Valor em centimetros: {valor_metro * 100} cm')"
      ],
      "metadata": {
        "colab": {
          "base_uri": "https://localhost:8080/"
        },
        "id": "XCDg0H2UCTJR",
        "outputId": "92408453-a797-496e-8986-6f3cb85ea02f"
      },
      "execution_count": 21,
      "outputs": [
        {
          "output_type": "stream",
          "name": "stdout",
          "text": [
            "Valor em centimetros: 4000 cm\n"
          ]
        }
      ]
    },
    {
      "cell_type": "markdown",
      "source": [
        "6. Faça um programa que peça o raio de um círculo, calcule e mostre sua área."
      ],
      "metadata": {
        "id": "ucsmfoFHDK8j"
      }
    },
    {
      "cell_type": "code",
      "source": [
        "raio = float(input('Insira o raio do circulo: '))\n",
        "area = 3.14 * raio**2\n",
        "\n",
        "print(f'Area do circulo: {area}')"
      ],
      "metadata": {
        "colab": {
          "base_uri": "https://localhost:8080/"
        },
        "id": "zQcdzbXCDevz",
        "outputId": "1ea45eee-0135-44d5-fb63-270b14099313"
      },
      "execution_count": 22,
      "outputs": [
        {
          "output_type": "stream",
          "name": "stdout",
          "text": [
            "Insira o raio do circulo: 2\n",
            "Area do circulo: 12.56\n"
          ]
        }
      ]
    },
    {
      "cell_type": "markdown",
      "source": [
        "7. Faça um programa que calcule a área de um quadrado, em seguida mostre o dobro desta área para o usuário."
      ],
      "metadata": {
        "id": "nUYBFTwpDQIY"
      }
    },
    {
      "cell_type": "code",
      "source": [
        "lado_quadrado = 4\n",
        "area_quadrado = lado_quadrado * 2\n",
        "\n",
        "print(f'Dobro da area do quadrado é: {area_quadrado * 2}')"
      ],
      "metadata": {
        "colab": {
          "base_uri": "https://localhost:8080/"
        },
        "id": "PPdJEdX1EBWc",
        "outputId": "91ff71ce-f80e-47bf-e930-e39493124fec"
      },
      "execution_count": 23,
      "outputs": [
        {
          "output_type": "stream",
          "name": "stdout",
          "text": [
            "Dobro da area do quadrado é: 16\n"
          ]
        }
      ]
    },
    {
      "cell_type": "markdown",
      "source": [
        "8. Faça um programa que pergunte quanto você ganha por hora e o número de horas trabalhadas no mês. Calcule e mostre o total do seu salário no referido mês."
      ],
      "metadata": {
        "id": "VwXsOIVtDUtf"
      }
    },
    {
      "cell_type": "code",
      "source": [
        "salario_hora = float(input('Insira quanto você ganha por hora: '))\n",
        "horas_trabalhadas = float(input('Insira o número de horas trabalhadas: '))\n",
        "salario_mensal = horas_trabalhadas * salario_hora\n",
        "\n",
        "print(f'Salario mensal: R$ {salario_mensal}')"
      ],
      "metadata": {
        "colab": {
          "base_uri": "https://localhost:8080/"
        },
        "id": "VPrLjym7ElMB",
        "outputId": "2f501b14-c404-47bd-cd09-2c2b0c5dbadb"
      },
      "execution_count": 25,
      "outputs": [
        {
          "output_type": "stream",
          "name": "stdout",
          "text": [
            "Insira quanto você ganha por hora: 2\n",
            "Insira o número de horas trabalhadas: 10\n",
            "Salario mensal: R$ 20.0\n"
          ]
        }
      ]
    },
    {
      "cell_type": "markdown",
      "source": [
        "9.  Escreva um programa que substitui as ocorrencias de um caractere 0 em uma string por outro caractere 1."
      ],
      "metadata": {
        "id": "C_m2JXAdDXxN"
      }
    },
    {
      "cell_type": "code",
      "source": [
        "frase = 'Aula 02 de Introdução ao Python em 2022'\n",
        "\n",
        "print(frase.replace('0', '1'))"
      ],
      "metadata": {
        "colab": {
          "base_uri": "https://localhost:8080/"
        },
        "id": "Dk9kYgC_FY_p",
        "outputId": "6ebef95d-fe78-4c34-e3a3-78576d55fe5e"
      },
      "execution_count": 26,
      "outputs": [
        {
          "output_type": "stream",
          "name": "stdout",
          "text": [
            "Aula 12 de Introdução ao Python em 2122\n"
          ]
        }
      ]
    },
    {
      "cell_type": "markdown",
      "source": [
        "10. Faça um programa que receba do usuario uma string. O programa imprime a string sem suas vogais."
      ],
      "metadata": {
        "id": "RNWmCX70Dapo"
      }
    },
    {
      "cell_type": "code",
      "source": [
        "vogais = ['a', 'e', 'i', 'o', 'u']\n",
        "\n",
        "frase = input('Insira uma frase: ')\n",
        "frase = frase.lower()\n",
        "\n",
        "for i in frase:\n",
        "  if i in vogais:\n",
        "    frase = frase.replace(i, '')\n",
        "\n",
        "print(frase)"
      ],
      "metadata": {
        "colab": {
          "base_uri": "https://localhost:8080/"
        },
        "id": "33j8B4RzFyfN",
        "outputId": "9e7a7574-b2ad-431f-f203-7b74430be3d2"
      },
      "execution_count": 35,
      "outputs": [
        {
          "output_type": "stream",
          "name": "stdout",
          "text": [
            "Insira uma frase: pAloma\n",
            "plm\n"
          ]
        }
      ]
    }
  ]
}