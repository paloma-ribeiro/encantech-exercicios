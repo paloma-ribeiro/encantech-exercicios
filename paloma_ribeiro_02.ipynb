{
  "nbformat": 4,
  "nbformat_minor": 0,
  "metadata": {
    "colab": {
      "name": "paloma_ribeiro_02.ipynb",
      "provenance": [],
      "collapsed_sections": []
    },
    "kernelspec": {
      "name": "python3",
      "display_name": "Python 3"
    },
    "language_info": {
      "name": "python"
    }
  },
  "cells": [
    {
      "cell_type": "markdown",
      "source": [
        "Exercícios Fundamentais Aula 2"
      ],
      "metadata": {
        "id": "Ytd8bl6rJslw"
      }
    },
    {
      "cell_type": "markdown",
      "source": [
        "1. Verifique se as igualdades abaixo são verdadeiras:\n",
        "\n",
        "\n",
        "a) 2 x 3 = 5\n",
        "\n",
        "b) 2 x 2.0 = 4\n",
        "\n",
        "c) a + 3 = b, para a=3 e b=15"
      ],
      "metadata": {
        "id": "2f7AsdLUJ3R0"
      }
    },
    {
      "cell_type": "code",
      "source": [
        "2 * 3 == 5"
      ],
      "metadata": {
        "colab": {
          "base_uri": "https://localhost:8080/"
        },
        "id": "52EkMNhjKcJW",
        "outputId": "e5528ec5-3851-489a-fc52-904ec450db86"
      },
      "execution_count": null,
      "outputs": [
        {
          "output_type": "execute_result",
          "data": {
            "text/plain": [
              "False"
            ]
          },
          "metadata": {},
          "execution_count": 12
        }
      ]
    },
    {
      "cell_type": "code",
      "source": [
        "2 * 2.0 == 4"
      ],
      "metadata": {
        "colab": {
          "base_uri": "https://localhost:8080/"
        },
        "id": "T6R-958DMt7n",
        "outputId": "26d66550-55cf-4e8c-ff6d-24c788c8932a"
      },
      "execution_count": null,
      "outputs": [
        {
          "output_type": "execute_result",
          "data": {
            "text/plain": [
              "True"
            ]
          },
          "metadata": {},
          "execution_count": 13
        }
      ]
    },
    {
      "cell_type": "code",
      "source": [
        "a = 3\n",
        "b = 15\n",
        "\n",
        "a + 3 == b"
      ],
      "metadata": {
        "colab": {
          "base_uri": "https://localhost:8080/"
        },
        "id": "pr-dDCyUM2ZS",
        "outputId": "327442c1-db09-44a6-d3d1-7086f8ad3d80"
      },
      "execution_count": null,
      "outputs": [
        {
          "output_type": "execute_result",
          "data": {
            "text/plain": [
              "False"
            ]
          },
          "metadata": {},
          "execution_count": 14
        }
      ]
    },
    {
      "cell_type": "markdown",
      "source": [
        "2. Faça um programa que calcule as raízes de uma equação do segundo grau, na forma ax² + bx + c. O programa deverá pedir os valores de a, b e c e fazer as consistências, informando ao usuário nas seguintes situações:\n",
        "\n",
        "a) Se o usuário informar o valor de A igual a zero, a equação não é do segundo grau e o programa não deve pedir os demais valores, sendo encerrado;\n",
        "\n",
        "b) Se o delta calculado for negativo, a equação não possui raizes reais. Informe ao usuário e encerre o programa;\n",
        "\n",
        "c) Se o delta calculado for igual a zero a equação possui apenas uma raiz real; informe-a ao usuário;\n",
        "\n",
        "d) Se o delta for positivo, a equação possui duas raiz reais; informe-as ao usuário;"
      ],
      "metadata": {
        "id": "3sqROB7HM5JY"
      }
    },
    {
      "cell_type": "code",
      "source": [
        "import math\n",
        "\n",
        "a = float(input('Insira o valor de a: '))\n",
        "\n",
        "if a == 0:\n",
        "  print('A equação não é do segundo grau')\n",
        "\n",
        "else:\n",
        "  b = float(input('Insira o valor de b: '))\n",
        "  c = float(input('Insira o valor de c: '))\n",
        "\n",
        "  delta = (b**2) - (4 * a * c)\n",
        "\n",
        "  if delta < 0:\n",
        "    print('A equação não possui raizes reais!')\n",
        "\n",
        "  elif delta == 0:\n",
        "    x1 = -b / 2 * a\n",
        "    print('A equação possui apenas uma raiz real:', x1)\n",
        "\n",
        "  else:\n",
        "    raiz = math.sqrt(delta)\n",
        "    x1 = (-b + raiz) / (2 * a)\n",
        "    x2 = (-b - raiz) / (2 * a)\n",
        "\n",
        "    print('Delta:', delta)\n",
        "    print('Raiz quadrada de Delta:', raiz)\n",
        "    print(f'A equação possui duas raizes reais: {x1} e {x2}')\n",
        "\n",
        "\n",
        "# Teste: \n",
        "# a = 2; b = -7, c = 3 -> delta = 25 -> raizes = 3 e 1/2\n",
        "# a = 1; b = 5, c = -14 -> delta = 81 -> raizes = 2 e -7\n",
        "# a = -1; b = 1, c = 12 -> delta = 49 -> raizes = -3 e 4\n",
        "# a = 1; b = -1, c = 1 -> delta = -3\n",
        "# a = 1; b = 2; c = 1 -> delta = 0"
      ],
      "metadata": {
        "colab": {
          "base_uri": "https://localhost:8080/"
        },
        "id": "D4vR4VPVNVqZ",
        "outputId": "ab6f05b8-f41b-410e-e40f-902053881ecd"
      },
      "execution_count": 34,
      "outputs": [
        {
          "output_type": "stream",
          "name": "stdout",
          "text": [
            "Insira o valor de a: -1\n",
            "Insira o valor de b: 1\n",
            "Insira o valor de c: 12\n",
            "Delta: 49.0\n",
            "Raiz quadrada de Delta: 7.0\n",
            "A equação possui duas raizes reais: -3.0 e 4.0\n"
          ]
        }
      ]
    },
    {
      "cell_type": "markdown",
      "source": [
        "3. Faça um Programa que peça um número correspondente a um determinado ano e em seguida informe se este ano é ou não bissexto."
      ],
      "metadata": {
        "id": "0aUbQxFlNd3D"
      }
    },
    {
      "cell_type": "code",
      "source": [
        "ano = int(input('Insira um ano: '))\n",
        "\n",
        "if ano % 4 == 0:\n",
        "  if ano % 100 == 0:\n",
        "    if ano % 400 == 0:\n",
        "      print('Ano bissexto!')\n",
        "    else:\n",
        "      print('Ano não é bissexto!')\n",
        "  else:\n",
        "    print('Ano bissexto!')\n",
        "else:\n",
        "  print('Ano não é bissexto!')\n",
        "  \n",
        "# Teste\n",
        "# 1997 -> Não bissexto\n",
        "# 2012 -> Bissexto\n",
        "# 1900 -> Não bissexto\n",
        "# 2000 -> Bissexto\n",
        "\n",
        "# Quando um ano é bissexto?\n",
        "# Deve ser divisivel por 4, mas não por 100\n",
        "# Caso seja divisivel por 4 e 100, deve ser divisivel também por 400"
      ],
      "metadata": {
        "id": "I7NIYIywNtWF",
        "colab": {
          "base_uri": "https://localhost:8080/"
        },
        "outputId": "c821e057-b853-4319-8f00-28078f19d544"
      },
      "execution_count": 48,
      "outputs": [
        {
          "output_type": "stream",
          "name": "stdout",
          "text": [
            "Insira um ano: 2000\n",
            "Ano bissexto!\n"
          ]
        }
      ]
    },
    {
      "cell_type": "markdown",
      "source": [
        "4. Faça um Programa que peça uma data no formato dd/mm/aaaa e determine se a mesma é uma data válida."
      ],
      "metadata": {
        "id": "nW59Zj0-Nib6"
      }
    },
    {
      "cell_type": "code",
      "source": [
        "from datetime import datetime\n",
        "\n",
        "# def data_valida(data):\n",
        "#     try:\n",
        "#         datetime.strptime(data, '%d/%m/%Y')\n",
        "#         return True\n",
        "#     except ValueError:\n",
        "#         return False\n",
        "\n",
        "def data_valida(data):\n",
        "    try:\n",
        "        # faz o split e transforma em números\n",
        "        dia, mes, ano = map(int, data.split('/'))\n",
        "\n",
        "        # mes ou ano inválido, retorna False\n",
        "        if mes < 1 or mes > 12 or ano <= 0:\n",
        "            return False\n",
        "\n",
        "        # verifica qual o último dia do mês\n",
        "        if mes in (1, 3, 5, 7, 8, 10, 12):\n",
        "            ultimo_dia = 31\n",
        "        elif mes == 2:\n",
        "            if (ano % 4 == 0) and (ano % 100 != 0 or ano % 400 == 0):\n",
        "                ultimo_dia = 29\n",
        "            else:\n",
        "                ultimo_dia = 28\n",
        "        else:\n",
        "            ultimo_dia = 30\n",
        "\n",
        "        # verifica se o dia é válido\n",
        "        if dia < 1 or dia > ultimo_dia:\n",
        "            return False\n",
        "\n",
        "        return True\n",
        "    except ValueError:\n",
        "        return False\n",
        "\n",
        "\n",
        "data = input('Insira uma data no formato dd/mm/aaaa')\n",
        "\n",
        "if data_valida(data):\n",
        "  print('Data válida!')\n",
        "else:\n",
        "  print('Data inválida!')\n"
      ],
      "metadata": {
        "id": "X_TlpCXRNuEB",
        "colab": {
          "base_uri": "https://localhost:8080/"
        },
        "outputId": "6e8c363e-35be-4063-c775-f3e1c5c7b072"
      },
      "execution_count": 64,
      "outputs": [
        {
          "output_type": "stream",
          "name": "stdout",
          "text": [
            "Insira uma data no formato dd/mm/aaaa40/02/2022\n",
            "Data inválida!\n"
          ]
        }
      ]
    },
    {
      "cell_type": "markdown",
      "source": [
        "5. Faça um Programa que leia um número e exiba o dia correspondente da semana. (1-Domingo, 2- Segunda, etc.), se digitar outro valor deve aparecer valor inválido."
      ],
      "metadata": {
        "id": "f-2c8aFUNpy9"
      }
    },
    {
      "cell_type": "code",
      "source": [
        "numero = int(input('Digite um numero de 1 a 7: '))\n",
        "\n",
        "if numero == 1:\n",
        "  print('1-Domingo')\n",
        "elif numero == 2:\n",
        "  print('2-Segunda')\n",
        "elif numero == 3:\n",
        "  print('3-Terça')\n",
        "elif numero == 4:\n",
        "  print('4-Quarta')\n",
        "elif numero == 5:\n",
        "  print('5-Quinta')\n",
        "elif numero == 6:\n",
        "  print('6-Sexta')\n",
        "elif numero == 7:\n",
        "  print('7-Sabado')\n",
        "else:\n",
        "  print('Valor inválido!')"
      ],
      "metadata": {
        "id": "6xO_NSH6Nu0p",
        "colab": {
          "base_uri": "https://localhost:8080/"
        },
        "outputId": "dd98a0af-cfbf-4c9e-94d7-dcbd6d91ef23"
      },
      "execution_count": 12,
      "outputs": [
        {
          "output_type": "stream",
          "name": "stdout",
          "text": [
            "Digite um numero de 1 a 7: 1\n",
            "1-Domingo\n"
          ]
        }
      ]
    }
  ]
}