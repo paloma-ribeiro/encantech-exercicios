{
  "nbformat": 4,
  "nbformat_minor": 0,
  "metadata": {
    "colab": {
      "name": "paloma_ribeiro_03.ipynb",
      "provenance": [],
      "collapsed_sections": []
    },
    "kernelspec": {
      "name": "python3",
      "display_name": "Python 3"
    },
    "language_info": {
      "name": "python"
    }
  },
  "cells": [
    {
      "cell_type": "markdown",
      "source": [
        "Exercicios Fundamentais Aula 3"
      ],
      "metadata": {
        "id": "nU0-lCNWNblE"
      }
    },
    {
      "cell_type": "markdown",
      "source": [
        "1. Faça um programa que imprima na tela apenas os números ímpares entre 1 e 50."
      ],
      "metadata": {
        "id": "03FJbwYpNhjA"
      }
    },
    {
      "cell_type": "code",
      "execution_count": null,
      "metadata": {
        "id": "PkZefZLONXZH"
      },
      "outputs": [],
      "source": [
        "for i in range(1, 50):\n",
        "  if i % 2 != 0:\n",
        "    print(i)"
      ]
    },
    {
      "cell_type": "markdown",
      "source": [
        "2. Faça um programa que leia 5 números e informe o maior número."
      ],
      "metadata": {
        "id": "QGTVjgniONl3"
      }
    },
    {
      "cell_type": "code",
      "source": [
        "numeros = [2, 7, 3, 4, 6]\n",
        "print(max(numeros))"
      ],
      "metadata": {
        "colab": {
          "base_uri": "https://localhost:8080/"
        },
        "id": "kNlNdShgORB9",
        "outputId": "aeef4b42-dd50-4953-fe29-cdb248030bf0"
      },
      "execution_count": 3,
      "outputs": [
        {
          "output_type": "stream",
          "name": "stdout",
          "text": [
            "7\n"
          ]
        }
      ]
    },
    {
      "cell_type": "markdown",
      "source": [
        "3. Escreva um programa que receba um numero n, e logo após, receba n itens populando uma lista. E imprima no final cada um desses itens na ordem oposta em que foram inseridos"
      ],
      "metadata": {
        "id": "u59HsYMhOlJo"
      }
    },
    {
      "cell_type": "code",
      "source": [
        "n = int(input('Insira um número inteiro: '))\n",
        "lista = []\n",
        "\n",
        "for i in range(0, n):\n",
        "  lista.append(i)\n",
        "\n",
        "print(lista[::-1])"
      ],
      "metadata": {
        "colab": {
          "base_uri": "https://localhost:8080/"
        },
        "id": "AUYhKFpKOqTN",
        "outputId": "529dcff9-0399-4dd5-a643-6511cde36ae2"
      },
      "execution_count": 6,
      "outputs": [
        {
          "output_type": "stream",
          "name": "stdout",
          "text": [
            "Insira um número inteiro: 4\n",
            "[3, 2, 1, 0]\n"
          ]
        }
      ]
    },
    {
      "cell_type": "markdown",
      "source": [
        "4. Faça um programa que recebe um número de 1 a 10 do usuário e imprime a tabuada de multiplicação desse número"
      ],
      "metadata": {
        "id": "PEq1NmHROr-c"
      }
    },
    {
      "cell_type": "code",
      "source": [
        "numero = int(input('Insira um número de 1 a 10: '))\n",
        "\n",
        "for i in range(1, 11):\n",
        "  print(f'{numero} * {i} = {numero * i}')"
      ],
      "metadata": {
        "colab": {
          "base_uri": "https://localhost:8080/"
        },
        "id": "BmXAv5IpOu1l",
        "outputId": "a432c9b7-69f9-4644-fb9f-3edd9c24697f"
      },
      "execution_count": 8,
      "outputs": [
        {
          "output_type": "stream",
          "name": "stdout",
          "text": [
            "Insira um número de 1 a 10: 2\n",
            "2 * 1 = 2\n",
            "2 * 2 = 4\n",
            "2 * 3 = 6\n",
            "2 * 4 = 8\n",
            "2 * 5 = 10\n",
            "2 * 6 = 12\n",
            "2 * 7 = 14\n",
            "2 * 8 = 16\n",
            "2 * 9 = 18\n",
            "2 * 10 = 20\n"
          ]
        }
      ]
    },
    {
      "cell_type": "markdown",
      "source": [
        "5. Imagine que você tem um problema no qual precisa somar todos os números\n",
        "múltiplos de 3 até 1000, ou até a soma ultrapassar 300. Se caso o número\n",
        "seja múltiplo de 3 deve ser exibido \"Buscando...\". Mas caso o número seja\n",
        "múltiplo de 5, nada deve ser exibido."
      ],
      "metadata": {
        "id": "MUbUdSjoOvSG"
      }
    },
    {
      "cell_type": "code",
      "source": [
        "numeros = []\n",
        "\n",
        "for i in range(3, 1000):\n",
        "  if i % 3 == 0 and i % 5 != 0:\n",
        "    print('Buscando...', i)\n",
        "    if sum(numeros) < 300:\n",
        "      numeros.append(i)"
      ],
      "metadata": {
        "colab": {
          "base_uri": "https://localhost:8080/"
        },
        "id": "jKob69teOyOJ",
        "outputId": "5f7f2dfb-1d4e-4145-ca1e-02cb7f367ea5"
      },
      "execution_count": 12,
      "outputs": [
        {
          "output_type": "stream",
          "name": "stdout",
          "text": [
            "Buscando... 3\n",
            "Buscando... 6\n",
            "Buscando... 9\n",
            "Buscando... 12\n",
            "Buscando... 18\n",
            "Buscando... 21\n",
            "Buscando... 24\n",
            "Buscando... 27\n",
            "Buscando... 33\n",
            "Buscando... 36\n",
            "Buscando... 39\n",
            "Buscando... 42\n",
            "Buscando... 48\n",
            "Buscando... 51\n",
            "Buscando... 54\n",
            "Buscando... 57\n",
            "Buscando... 63\n",
            "Buscando... 66\n",
            "Buscando... 69\n",
            "Buscando... 72\n",
            "Buscando... 78\n",
            "Buscando... 81\n",
            "Buscando... 84\n",
            "Buscando... 87\n",
            "Buscando... 93\n",
            "Buscando... 96\n",
            "Buscando... 99\n",
            "Buscando... 102\n",
            "Buscando... 108\n",
            "Buscando... 111\n",
            "Buscando... 114\n",
            "Buscando... 117\n",
            "Buscando... 123\n",
            "Buscando... 126\n",
            "Buscando... 129\n",
            "Buscando... 132\n",
            "Buscando... 138\n",
            "Buscando... 141\n",
            "Buscando... 144\n",
            "Buscando... 147\n",
            "Buscando... 153\n",
            "Buscando... 156\n",
            "Buscando... 159\n",
            "Buscando... 162\n",
            "Buscando... 168\n",
            "Buscando... 171\n",
            "Buscando... 174\n",
            "Buscando... 177\n",
            "Buscando... 183\n",
            "Buscando... 186\n",
            "Buscando... 189\n",
            "Buscando... 192\n",
            "Buscando... 198\n",
            "Buscando... 201\n",
            "Buscando... 204\n",
            "Buscando... 207\n",
            "Buscando... 213\n",
            "Buscando... 216\n",
            "Buscando... 219\n",
            "Buscando... 222\n",
            "Buscando... 228\n",
            "Buscando... 231\n",
            "Buscando... 234\n",
            "Buscando... 237\n",
            "Buscando... 243\n",
            "Buscando... 246\n",
            "Buscando... 249\n",
            "Buscando... 252\n",
            "Buscando... 258\n",
            "Buscando... 261\n",
            "Buscando... 264\n",
            "Buscando... 267\n",
            "Buscando... 273\n",
            "Buscando... 276\n",
            "Buscando... 279\n",
            "Buscando... 282\n",
            "Buscando... 288\n",
            "Buscando... 291\n",
            "Buscando... 294\n",
            "Buscando... 297\n",
            "Buscando... 303\n",
            "Buscando... 306\n",
            "Buscando... 309\n",
            "Buscando... 312\n",
            "Buscando... 318\n",
            "Buscando... 321\n",
            "Buscando... 324\n",
            "Buscando... 327\n",
            "Buscando... 333\n",
            "Buscando... 336\n",
            "Buscando... 339\n",
            "Buscando... 342\n",
            "Buscando... 348\n",
            "Buscando... 351\n",
            "Buscando... 354\n",
            "Buscando... 357\n",
            "Buscando... 363\n",
            "Buscando... 366\n",
            "Buscando... 369\n",
            "Buscando... 372\n",
            "Buscando... 378\n",
            "Buscando... 381\n",
            "Buscando... 384\n",
            "Buscando... 387\n",
            "Buscando... 393\n",
            "Buscando... 396\n",
            "Buscando... 399\n",
            "Buscando... 402\n",
            "Buscando... 408\n",
            "Buscando... 411\n",
            "Buscando... 414\n",
            "Buscando... 417\n",
            "Buscando... 423\n",
            "Buscando... 426\n",
            "Buscando... 429\n",
            "Buscando... 432\n",
            "Buscando... 438\n",
            "Buscando... 441\n",
            "Buscando... 444\n",
            "Buscando... 447\n",
            "Buscando... 453\n",
            "Buscando... 456\n",
            "Buscando... 459\n",
            "Buscando... 462\n",
            "Buscando... 468\n",
            "Buscando... 471\n",
            "Buscando... 474\n",
            "Buscando... 477\n",
            "Buscando... 483\n",
            "Buscando... 486\n",
            "Buscando... 489\n",
            "Buscando... 492\n",
            "Buscando... 498\n",
            "Buscando... 501\n",
            "Buscando... 504\n",
            "Buscando... 507\n",
            "Buscando... 513\n",
            "Buscando... 516\n",
            "Buscando... 519\n",
            "Buscando... 522\n",
            "Buscando... 528\n",
            "Buscando... 531\n",
            "Buscando... 534\n",
            "Buscando... 537\n",
            "Buscando... 543\n",
            "Buscando... 546\n",
            "Buscando... 549\n",
            "Buscando... 552\n",
            "Buscando... 558\n",
            "Buscando... 561\n",
            "Buscando... 564\n",
            "Buscando... 567\n",
            "Buscando... 573\n",
            "Buscando... 576\n",
            "Buscando... 579\n",
            "Buscando... 582\n",
            "Buscando... 588\n",
            "Buscando... 591\n",
            "Buscando... 594\n",
            "Buscando... 597\n",
            "Buscando... 603\n",
            "Buscando... 606\n",
            "Buscando... 609\n",
            "Buscando... 612\n",
            "Buscando... 618\n",
            "Buscando... 621\n",
            "Buscando... 624\n",
            "Buscando... 627\n",
            "Buscando... 633\n",
            "Buscando... 636\n",
            "Buscando... 639\n",
            "Buscando... 642\n",
            "Buscando... 648\n",
            "Buscando... 651\n",
            "Buscando... 654\n",
            "Buscando... 657\n",
            "Buscando... 663\n",
            "Buscando... 666\n",
            "Buscando... 669\n",
            "Buscando... 672\n",
            "Buscando... 678\n",
            "Buscando... 681\n",
            "Buscando... 684\n",
            "Buscando... 687\n",
            "Buscando... 693\n",
            "Buscando... 696\n",
            "Buscando... 699\n",
            "Buscando... 702\n",
            "Buscando... 708\n",
            "Buscando... 711\n",
            "Buscando... 714\n",
            "Buscando... 717\n",
            "Buscando... 723\n",
            "Buscando... 726\n",
            "Buscando... 729\n",
            "Buscando... 732\n",
            "Buscando... 738\n",
            "Buscando... 741\n",
            "Buscando... 744\n",
            "Buscando... 747\n",
            "Buscando... 753\n",
            "Buscando... 756\n",
            "Buscando... 759\n",
            "Buscando... 762\n",
            "Buscando... 768\n",
            "Buscando... 771\n",
            "Buscando... 774\n",
            "Buscando... 777\n",
            "Buscando... 783\n",
            "Buscando... 786\n",
            "Buscando... 789\n",
            "Buscando... 792\n",
            "Buscando... 798\n",
            "Buscando... 801\n",
            "Buscando... 804\n",
            "Buscando... 807\n",
            "Buscando... 813\n",
            "Buscando... 816\n",
            "Buscando... 819\n",
            "Buscando... 822\n",
            "Buscando... 828\n",
            "Buscando... 831\n",
            "Buscando... 834\n",
            "Buscando... 837\n",
            "Buscando... 843\n",
            "Buscando... 846\n",
            "Buscando... 849\n",
            "Buscando... 852\n",
            "Buscando... 858\n",
            "Buscando... 861\n",
            "Buscando... 864\n",
            "Buscando... 867\n",
            "Buscando... 873\n",
            "Buscando... 876\n",
            "Buscando... 879\n",
            "Buscando... 882\n",
            "Buscando... 888\n",
            "Buscando... 891\n",
            "Buscando... 894\n",
            "Buscando... 897\n",
            "Buscando... 903\n",
            "Buscando... 906\n",
            "Buscando... 909\n",
            "Buscando... 912\n",
            "Buscando... 918\n",
            "Buscando... 921\n",
            "Buscando... 924\n",
            "Buscando... 927\n",
            "Buscando... 933\n",
            "Buscando... 936\n",
            "Buscando... 939\n",
            "Buscando... 942\n",
            "Buscando... 948\n",
            "Buscando... 951\n",
            "Buscando... 954\n",
            "Buscando... 957\n",
            "Buscando... 963\n",
            "Buscando... 966\n",
            "Buscando... 969\n",
            "Buscando... 972\n",
            "Buscando... 978\n",
            "Buscando... 981\n",
            "Buscando... 984\n",
            "Buscando... 987\n",
            "Buscando... 993\n",
            "Buscando... 996\n",
            "Buscando... 999\n"
          ]
        }
      ]
    }
  ]
}