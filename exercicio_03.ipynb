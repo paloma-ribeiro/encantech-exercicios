{
  "nbformat": 4,
  "nbformat_minor": 0,
  "metadata": {
    "colab": {
      "name": "paloma_ribeiro_03.ipynb",
      "provenance": [],
      "collapsed_sections": []
    },
    "kernelspec": {
      "name": "python3",
      "display_name": "Python 3"
    },
    "language_info": {
      "name": "python"
    }
  },
  "cells": [
    {
      "cell_type": "markdown",
      "source": [
        "Exercicios Fundamentais Aula 3"
      ],
      "metadata": {
        "id": "nU0-lCNWNblE"
      }
    },
    {
      "cell_type": "markdown",
      "source": [
        "1. Faça um programa que imprima na tela apenas os números ímpares entre 1 e 50."
      ],
      "metadata": {
        "id": "03FJbwYpNhjA"
      }
    },
    {
      "cell_type": "code",
      "execution_count": null,
      "metadata": {
        "id": "PkZefZLONXZH"
      },
      "outputs": [],
      "source": [
        "for i in range(1, 50):\n",
        "  if i % 2 != 0:\n",
        "    print(i)"
      ]
    },
    {
      "cell_type": "markdown",
      "source": [
        "2. Faça um programa que leia 5 números e informe o maior número."
      ],
      "metadata": {
        "id": "QGTVjgniONl3"
      }
    },
    {
      "cell_type": "code",
      "source": [
        "numeros = [2, 7, 3, 4, 6]\n",
        "print(max(numeros))"
      ],
      "metadata": {
        "colab": {
          "base_uri": "https://localhost:8080/"
        },
        "id": "kNlNdShgORB9",
        "outputId": "aeef4b42-dd50-4953-fe29-cdb248030bf0"
      },
      "execution_count": null,
      "outputs": [
        {
          "output_type": "stream",
          "name": "stdout",
          "text": [
            "7\n"
          ]
        }
      ]
    },
    {
      "cell_type": "markdown",
      "source": [
        "3. Escreva um programa que receba um numero n, e logo após, receba n itens populando uma lista. E imprima no final cada um desses itens na ordem oposta em que foram inseridos"
      ],
      "metadata": {
        "id": "u59HsYMhOlJo"
      }
    },
    {
      "cell_type": "code",
      "source": [
        "n = int(input('Insira um número inteiro: '))\n",
        "lista = []\n",
        "\n",
        "for i in range(0, n):\n",
        "  lista.append(i)\n",
        "\n",
        "print(lista[::-1])"
      ],
      "metadata": {
        "colab": {
          "base_uri": "https://localhost:8080/"
        },
        "id": "AUYhKFpKOqTN",
        "outputId": "529dcff9-0399-4dd5-a643-6511cde36ae2"
      },
      "execution_count": null,
      "outputs": [
        {
          "output_type": "stream",
          "name": "stdout",
          "text": [
            "Insira um número inteiro: 4\n",
            "[3, 2, 1, 0]\n"
          ]
        }
      ]
    },
    {
      "cell_type": "markdown",
      "source": [
        "4. Faça um programa que recebe um número de 1 a 10 do usuário e imprime a tabuada de multiplicação desse número"
      ],
      "metadata": {
        "id": "PEq1NmHROr-c"
      }
    },
    {
      "cell_type": "code",
      "source": [
        "numero = int(input('Insira um número de 1 a 10: '))\n",
        "\n",
        "for i in range(1, 11):\n",
        "  print(f'{numero} * {i} = {numero * i}')"
      ],
      "metadata": {
        "colab": {
          "base_uri": "https://localhost:8080/"
        },
        "id": "BmXAv5IpOu1l",
        "outputId": "a432c9b7-69f9-4644-fb9f-3edd9c24697f"
      },
      "execution_count": null,
      "outputs": [
        {
          "output_type": "stream",
          "name": "stdout",
          "text": [
            "Insira um número de 1 a 10: 2\n",
            "2 * 1 = 2\n",
            "2 * 2 = 4\n",
            "2 * 3 = 6\n",
            "2 * 4 = 8\n",
            "2 * 5 = 10\n",
            "2 * 6 = 12\n",
            "2 * 7 = 14\n",
            "2 * 8 = 16\n",
            "2 * 9 = 18\n",
            "2 * 10 = 20\n"
          ]
        }
      ]
    },
    {
      "cell_type": "markdown",
      "source": [
        "5. Imagine que você tem um problema no qual precisa somar todos os números\n",
        "múltiplos de 3 até 1000, ou até a soma ultrapassar 300. Se caso o número\n",
        "seja múltiplo de 3 deve ser exibido \"Buscando...\". Mas caso o número seja\n",
        "múltiplo de 5, nada deve ser exibido."
      ],
      "metadata": {
        "id": "MUbUdSjoOvSG"
      }
    },
    {
      "cell_type": "code",
      "source": [
        "numeros = []\n",
        "\n",
        "for i in range(0, 1000):\n",
        "  if i % 3 == 0 and i % 5 != 0:\n",
        "    if sum(numeros) < 300:\n",
        "      print('Buscando...')\n",
        "      numeros.append(i)\n",
        "    else:\n",
        "      break"
      ],
      "metadata": {
        "id": "jKob69teOyOJ",
        "colab": {
          "base_uri": "https://localhost:8080/"
        },
        "outputId": "dbf54ede-a397-465d-96cb-4b6801da3422"
      },
      "execution_count": 21,
      "outputs": [
        {
          "output_type": "stream",
          "name": "stdout",
          "text": [
            "Buscando...\n",
            "Buscando...\n",
            "Buscando...\n",
            "Buscando...\n",
            "Buscando...\n",
            "Buscando...\n",
            "Buscando...\n",
            "Buscando...\n",
            "Buscando...\n",
            "Buscando...\n",
            "Buscando...\n",
            "Buscando...\n",
            "Buscando...\n"
          ]
        }
      ]
    }
  ]
}