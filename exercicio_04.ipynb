{
  "nbformat": 4,
  "nbformat_minor": 0,
  "metadata": {
    "colab": {
      "name": "paloma_ribeiro_04.ipynb",
      "provenance": [],
      "collapsed_sections": []
    },
    "kernelspec": {
      "name": "python3",
      "display_name": "Python 3"
    },
    "language_info": {
      "name": "python"
    }
  },
  "cells": [
    {
      "cell_type": "markdown",
      "source": [
        "Exercicios Fundamentais Aula 04"
      ],
      "metadata": {
        "id": "xVHFJ7_LUnSE"
      }
    },
    {
      "cell_type": "markdown",
      "source": [
        "Para cada função criada, use a em uma celula separada."
      ],
      "metadata": {
        "id": "yKZk-UyFUqNh"
      }
    },
    {
      "cell_type": "markdown",
      "source": [
        "1. Crie uma função que recebe um valor inteiro e avalie se ele é positivo ou negativo. Em caso negativo a função deve imprimir \"Erro\", em caso positivo a função deve multiplicar o numero por 5 e retorna-lo."
      ],
      "metadata": {
        "id": "Ov_0hGWWUuhD"
      }
    },
    {
      "cell_type": "code",
      "execution_count": 28,
      "metadata": {
        "colab": {
          "base_uri": "https://localhost:8080/"
        },
        "id": "IcZN9LffUiZe",
        "outputId": "631f1358-d1a7-41e8-817f-70bb4ee69b01"
      },
      "outputs": [
        {
          "output_type": "stream",
          "name": "stdout",
          "text": [
            "20\n",
            "Erro\n",
            "0\n",
            "Erro\n"
          ]
        }
      ],
      "source": [
        "def verifica_numero(num: int) -> str or int:\n",
        "  if num < 0:\n",
        "    return 'Erro'\n",
        "  return num * 5\n",
        "\n",
        "print(verifica_numero(4))\n",
        "print(verifica_numero(-1))\n",
        "print(verifica_numero(0))\n",
        "print(verifica_numero(-4))"
      ]
    },
    {
      "cell_type": "markdown",
      "source": [
        "2. Crie uma função que receba uma lista de números inteiros e exiba todos os valores multiplicados por um valor inserido pelo usuário."
      ],
      "metadata": {
        "id": "92heuks5Ux3-"
      }
    },
    {
      "cell_type": "code",
      "source": [
        "def multiplica_lista(lista: list) -> list: \n",
        "  numero = int(input('Insira um número: '))\n",
        "  nova_lista = []\n",
        "\n",
        "  for i in lista:\n",
        "    nova_lista.append(numero * i)\n",
        "  \n",
        "  return nova_lista\n",
        "\n",
        "print(multiplica_lista([1, 2, 3, 4]))\n",
        "print(multiplica_lista([2, 4, 6, 8]))\n",
        "print(multiplica_lista([-1, -1, 1, 1]))"
      ],
      "metadata": {
        "colab": {
          "base_uri": "https://localhost:8080/"
        },
        "id": "gW4csE1Ck94H",
        "outputId": "b1a59da8-7c2f-4022-ea6a-12c0da07e1d0"
      },
      "execution_count": 29,
      "outputs": [
        {
          "output_type": "stream",
          "name": "stdout",
          "text": [
            "Insira um número: 4\n",
            "[4, 8, 12, 16]\n",
            "Insira um número: 3\n",
            "[6, 12, 18, 24]\n",
            "Insira um número: 2\n",
            "[-2, -2, 2, 2]\n"
          ]
        }
      ]
    },
    {
      "cell_type": "markdown",
      "source": [
        "3. Faça o exercicio 2 usando map e lambda"
      ],
      "metadata": {
        "id": "C8Dh9-COU0um"
      }
    },
    {
      "cell_type": "code",
      "source": [
        "def multiplica_lista(lista: list) -> list:\n",
        "  numero = int(input('Insira um número: '))\n",
        "\n",
        "  return list(map(lambda x: x * numero, lista))\n",
        "\n",
        "print(multiplica_lista([1, 2, 3, 4]))"
      ],
      "metadata": {
        "colab": {
          "base_uri": "https://localhost:8080/"
        },
        "id": "7IaDsYkvnahE",
        "outputId": "c7fc2f8d-bf39-4374-9699-ab2d3bd8f066"
      },
      "execution_count": 9,
      "outputs": [
        {
          "output_type": "stream",
          "name": "stdout",
          "text": [
            "Insira um número: 2\n",
            "[2, 4, 6, 8]\n"
          ]
        }
      ]
    },
    {
      "cell_type": "markdown",
      "source": [
        "4. Crie um programa que receba do usuário 5 números inteiros e os exiba na tela na ordem contrária ao que foi inserido. A leitura dos números deve ser feita em uma função e a exibição dos valores em ordem contrária deve ocorrer em outra função."
      ],
      "metadata": {
        "id": "CpzGWV9PU3qd"
      }
    },
    {
      "cell_type": "code",
      "source": [
        "def le_numeros() -> list:\n",
        "  lista = []\n",
        "\n",
        "  for i in range(1, 6):\n",
        "    numero = int(input(f'{i}: Insira um número: '))\n",
        "    lista.append(numero)\n",
        "  return inverte_lista(lista)\n",
        "\n",
        "def inverte_lista(lista: list) -> list:\n",
        "  return lista[::-1]\n",
        "\n",
        "print(le_numeros())"
      ],
      "metadata": {
        "colab": {
          "base_uri": "https://localhost:8080/"
        },
        "id": "hRZHoUPPsVrW",
        "outputId": "2fd16f18-c9ab-40bc-9452-055592969e96"
      },
      "execution_count": 31,
      "outputs": [
        {
          "output_type": "stream",
          "name": "stdout",
          "text": [
            "1: Insira um número: 1\n",
            "2: Insira um número: 2\n",
            "3: Insira um número: 3\n",
            "4: Insira um número: 4\n",
            "5: Insira um número: 5\n",
            "[5, 4, 3, 2, 1]\n"
          ]
        }
      ]
    },
    {
      "cell_type": "markdown",
      "source": [
        "5. Crie um programa que pede ao usuário para insirir um nome. Passe esse nome para uma função que deve retornar se esse nome existe ou não na lista de nomes convidados = [\"Eduardo\", \"Ivan\", \"Paloma\", \"Andrea\"].\n",
        "\n",
        "Letras maiusculas ou minusculas não devem importar, se o usuario digitar \"eduardo\" a função deve retornar que o nome existe na lista."
      ],
      "metadata": {
        "id": "m1-kemFhU6Q0"
      }
    },
    {
      "cell_type": "code",
      "source": [
        "def verifica_convidado(nome: str):\n",
        "  \n",
        "  convidados = [\"Eduardo\", \"Ivan\", \"Paloma\", \"Andrea\"]\n",
        "  nome = nome.capitalize()\n",
        "\n",
        "  if nome in convidados:\n",
        "    print(f'Nome {nome}, consta na lista de convidados')\n",
        "  else:\n",
        "    print(f'Nome {nome}, não consta na lista de convidados')\n",
        "\n",
        "nome = input('Insira o nome: ')\n",
        "verifica_convidado(nome)"
      ],
      "metadata": {
        "colab": {
          "base_uri": "https://localhost:8080/"
        },
        "id": "MbIMsga3uLZp",
        "outputId": "b2e05092-7fdd-4357-ea39-71bf4fa431d0"
      },
      "execution_count": 27,
      "outputs": [
        {
          "output_type": "stream",
          "name": "stdout",
          "text": [
            "Insira o nome: maria\n",
            "Nome: Maria, não consta na lista de convidados\n"
          ]
        }
      ]
    }
  ]
}